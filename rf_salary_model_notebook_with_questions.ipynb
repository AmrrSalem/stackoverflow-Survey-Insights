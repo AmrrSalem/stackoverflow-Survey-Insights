{
 
  {
   "cell_type": "code",
   "execution_count": null,
   "id": "2c9f6383",
   "metadata": {},
   "outputs": [],
   "source": [
    "import numpy as np\n",
    "import pandas as pd\n",
    "import shap\n",
    "import logging\n",
    "from sklearn.impute import KNNImputer, SimpleImputer\n",
    "from sklearn.preprocessing import StandardScaler, OneHotEncoder\n",
    "from sklearn.compose import ColumnTransformer\n",
    "from sklearn.pipeline import Pipeline\n",
    "from sklearn.ensemble import RandomForestRegressor\n",
    "from sklearn.model_selection import train_test_split, cross_val_score\n",
    "from sklearn.metrics import r2_score, mean_squared_error, mean_absolute_error\n"
   ]
  },
  {
   "cell_type": "code",
   "execution_count": null,
   "id": "a5b5e6be",
   "metadata": {},
   "outputs": [],
   "source": [
    "SURVEY_ZIP_FILE = 'stack-overflow-developer-survey-2024.zip'\n",
    "RANDOM_SEED = 42\n",
    "N_ESTIMATORS_RF = 200\n",
    "SHAP_BACKGROUND_SAMPLES = 50\n",
    "SHAP_TEST_SAMPLES = 100\n",
    "\n",
    "logging.basicConfig(level=logging.INFO, format='%(asctime)s - %(levelname)s - %(message)s')\n"
   ]
  },
  {
   "cell_type": "markdown",
   "id": "dd4d6920",
   "metadata": {},
   "source": [
    "## 🧮 Helper Functions"
   ]
  },
  {
   "cell_type": "code",
   "execution_count": null,
   "id": "2c7719cf",
   "metadata": {},
   "outputs": [],
   "source": [
    "def parse_years_experience(years_str):\n",
    "    if pd.isna(years_str): return np.nan\n",
    "    if years_str == 'Less than 1 year': return 0.5\n",
    "    if years_str == 'More than 50 years': return 51.0\n",
    "    try:\n",
    "        return float(years_str)\n",
    "    except:\n",
    "        return np.nan\n",
    "\n",
    "def parse_age(age_str):\n",
    "    age_map = {\n",
    "        \"Under 18 years old\": 16.0,\n",
    "        \"18-24 years old\": 21.0,\n",
    "        \"25-34 years old\": 29.5,\n",
    "        \"35-44 years old\": 39.5,\n",
    "        \"45-54 years old\": 49.5,\n",
    "        \"55-64 years old\": 59.5,\n",
    "        \"65 years or older\": 70.0,\n",
    "    }\n",
    "    return age_map.get(age_str, np.nan)\n"
   ]
  },
  {
   "cell_type": "markdown",
   "id": "ea615a72",
   "metadata": {},
   "source": [
    "## 📥 Load and Prepare Data"
   ]
  },
  {
   "cell_type": "code",
   "execution_count": null,
   "id": "49a959ae",
   "metadata": {},
   "outputs": [],
   "source": [
    "def load_and_prepare_data(public_csv_path='survey_results_public.csv', random_seed=RANDOM_SEED):\n",
    "    logging.info(f\"Loading {public_csv_path}...\")\n",
    "    df = pd.read_csv(public_csv_path)\n",
    "\n",
    "    df = df[df['ConvertedCompYearly'].notna()].copy()\n",
    "    df['LogSalary'] = np.log1p(df['ConvertedCompYearly'])\n",
    "    df['YearsCodeProNum'] = df['YearsCodePro'].apply(parse_years_experience)\n",
    "    df['AgeNum'] = df['Age'].apply(parse_age)\n",
    "\n",
    "    num_cols = ['YearsCodeProNum', 'AgeNum']\n",
    "    cat_cols = ['EdLevel', 'Country']\n",
    "    X = df[num_cols + cat_cols]\n",
    "    y = df['LogSalary']\n",
    "\n",
    "    X_train, X_test, y_train, y_test = train_test_split(X, y, test_size=0.2, random_state=random_seed)\n",
    "\n",
    "    return (X_train, X_test, y_train, y_test), num_cols, cat_cols\n"
   ]
  },
  {
   "cell_type": "markdown",
   "id": "313a1a4c",
   "metadata": {},
   "source": [
    "## 🧱 Build Preprocessing + Modeling Pipeline"
   ]
  },
  {
   "cell_type": "code",
   "execution_count": null,
   "id": "d7b3b3c7",
   "metadata": {},
   "outputs": [],
   "source": [
    "def build_pipeline(num_cols, cat_cols):\n",
    "    num_pipe = Pipeline([\n",
    "        ('impute', KNNImputer(n_neighbors=5)),\n",
    "        ('scale', StandardScaler())\n",
    "    ])\n",
    "\n",
    "    cat_pipe = Pipeline([\n",
    "        ('impute', SimpleImputer(strategy='constant', fill_value='Unknown')),\n",
    "        ('ohe', OneHotEncoder(handle_unknown='ignore', sparse_output=False))\n",
    "    ])\n",
    "\n",
    "    preprocessor = ColumnTransformer([\n",
    "        ('num', num_pipe, num_cols),\n",
    "        ('cat', cat_pipe, cat_cols)\n",
    "    ])\n",
    "\n",
    "    rf = RandomForestRegressor(n_estimators=N_ESTIMATORS_RF, random_state=RANDOM_SEED, n_jobs=-1)\n",
    "\n",
    "    return Pipeline([('preproc', preprocessor), ('rf', rf)])\n"
   ]
  },
  {
   "cell_type": "markdown",
   "id": "6532f989",
   "metadata": {},
   "source": [
    "## 📊 Evaluate Model Performance"
   ]
  },
  {
   "cell_type": "code",
   "execution_count": null,
   "id": "315d6e7e",
   "metadata": {},
   "outputs": [],
   "source": [
    "def evaluate_model(model, X_train, y_train, X_test, y_test):\n",
    "    scores = cross_val_score(model, X_train, y_train, cv=5, scoring='r2', n_jobs=-1)\n",
    "    print(\"\\n=== Cross-Validated R² Scores ===\")\n",
    "    for i, score in enumerate(scores, 1):\n",
    "        print(f\"Fold {i}: R² = {score:.4f}\")\n",
    "    print(f\"Mean R² : {np.mean(scores):.4f}\")\n",
    "    print(f\"Std Dev : {np.std(scores):.4f}\")\n",
    "\n",
    "    model.fit(X_train, y_train)\n",
    "    y_pred = model.predict(X_test)\n",
    "\n",
    "    r2 = r2_score(y_test, y_pred)\n",
    "    mse = mean_squared_error(y_test, y_pred)\n",
    "    mae = mean_absolute_error(y_test, y_pred)\n",
    "    rmse = np.sqrt(mse)\n",
    "\n",
    "    print(\"\\n=== Test Set Evaluation ===\")\n",
    "    print(f\"R²   : {r2:.4f}\")\n",
    "    print(f\"MSE  : {mse:.4f}\")\n",
    "    print(f\"MAE  : {mae:.4f}\")\n",
    "    print(f\"RMSE : {rmse:.4f}\")\n"
   ]
  },
  {
   "cell_type": "markdown",
   "id": "9d7fcc3c",
   "metadata": {},
   "source": [
    "## 📈 SHAP Interpretability Analysis"
   ]
  },
  {
   "cell_type": "code",
   "execution_count": null,
   "id": "fd098af6",
   "metadata": {},
   "outputs": [],
   "source": [
    "def shap_summary(pipeline, X_train, X_test, num_samples=SHAP_TEST_SAMPLES):\n",
    "    logging.info(\"Computing SHAP values...\")\n",
    "    preproc = pipeline.named_steps['preproc']\n",
    "    model = pipeline.named_steps['rf']\n",
    "\n",
    "    X_train_trans = preproc.transform(X_train)\n",
    "    X_test_subset = X_test.iloc[:num_samples]\n",
    "    X_test_trans = preproc.transform(X_test_subset)\n",
    "    background = shap.sample(X_train_trans, SHAP_BACKGROUND_SAMPLES, random_state=RANDOM_SEED)\n",
    "\n",
    "    explainer = shap.TreeExplainer(model, data=background)\n",
    "    shap_vals = explainer(X_test_trans, check_additivity=False).values\n",
    "\n",
    "    feature_names = preproc.get_feature_names_out()\n",
    "    abs_shap = np.abs(shap_vals)\n",
    "    mean_abs = np.mean(abs_shap, axis=0)\n",
    "\n",
    "    df_shap = pd.DataFrame({\n",
    "        'feature': feature_names,\n",
    "        'mean_abs_shap': mean_abs\n",
    "    }).sort_values('mean_abs_shap', ascending=False)\n",
    "\n",
    "    print(\"\\n--- SHAP Feature Importance (Top 20) ---\")\n",
    "    print(df_shap.head(20).to_string(index=False))\n"
   ]
  },
  {
   "cell_type": "markdown",
   "id": "1d2b44f0",
   "metadata": {},
   "source": [
    "## 🚀 Main Execution"
   ]
  },
  {
   "cell_type": "code",
   "execution_count": null,
   "id": "2d553d3d",
   "metadata": {},
   "outputs": [],
   "source": [
    "(X_train, X_test, y_train, y_test), num_cols, cat_cols = load_and_prepare_data()\n",
    "pipeline = build_pipeline(num_cols, cat_cols)\n",
    "pipeline.fit(X_train, y_train)\n",
    "\n",
    "evaluate_model(pipeline, X_train, y_train, X_test, y_test)\n",
    "shap_summary(pipeline, X_train, X_test)\n"
   ]
  }
 ],
 "metadata": {},
 "nbformat": 4,
 "nbformat_minor": 5
}
