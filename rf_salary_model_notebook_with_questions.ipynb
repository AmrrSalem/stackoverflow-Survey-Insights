{
  "cells": [
    {
      "cell_type": "markdown",
      "id": "d2a9d11e",
      "metadata": {
        "id": "d2a9d11e"
      },
      "source": [
        "# 📘 Random Forest Model with SHAP Interpretation for Stack Overflow Developer Survey"
      ]
    },
    {
      "cell_type": "markdown",
      "id": "32992e45",
      "metadata": {
        "id": "32992e45"
      },
      "source": [
        "# 💼 Business Questions\n",
        "\n",
        "This analysis addresses the following key questions derived from the Stack Overflow Developer Survey 2024:\n",
        "\n",
        "1. **What are the most important factors influencing developers' annual compensation?**\n",
        "2. **How predictive are experience and age when estimating salary?**\n",
        "3. **Does educational level significantly impact developer earnings?**\n",
        "4. **Are there notable salary differences across countries?**\n",
        "5. **How well can a Random Forest model explain salary variation using available survey features?**\n"
      ]
    },
    {
      "cell_type": "code",
      "execution_count": 1,
      "id": "2c9f6383",
      "metadata": {
        "id": "2c9f6383"
      },
      "outputs": [],
      "source": [
        "import numpy as np\n",
        "import pandas as pd\n",
        "import shap\n",
        "import logging\n",
        "from sklearn.impute import KNNImputer, SimpleImputer\n",
        "from sklearn.preprocessing import StandardScaler, OneHotEncoder\n",
        "from sklearn.compose import ColumnTransformer\n",
        "from sklearn.pipeline import Pipeline\n",
        "from sklearn.ensemble import RandomForestRegressor\n",
        "from sklearn.model_selection import train_test_split, cross_val_score\n",
        "from sklearn.metrics import r2_score, mean_squared_error, mean_absolute_error\n"
      ]
    },
    {
      "cell_type": "code",
      "execution_count": 2,
      "id": "a5b5e6be",
      "metadata": {
        "id": "a5b5e6be"
      },
      "outputs": [],
      "source": [
        "RANDOM_SEED = 42\n",
        "N_ESTIMATORS_RF = 200\n",
        "SHAP_BACKGROUND_SAMPLES = 50\n",
        "SHAP_TEST_SAMPLES = 100\n",
        "\n",
        "logging.basicConfig(level=logging.INFO, format='%(asctime)s - %(levelname)s - %(message)s')\n"
      ]
    },
    {
      "cell_type": "markdown",
      "id": "dd4d6920",
      "metadata": {
        "id": "dd4d6920"
      },
      "source": [
        "## 🧮 Helper Functions"
      ]
    },
    {
      "cell_type": "code",
      "execution_count": 3,
      "id": "2c7719cf",
      "metadata": {
        "id": "2c7719cf"
      },
      "outputs": [],
      "source": [
        "def parse_years_experience(years_str):\n",
        "    if pd.isna(years_str): return np.nan\n",
        "    if years_str == 'Less than 1 year': return 0.5\n",
        "    if years_str == 'More than 50 years': return 51.0\n",
        "    try:\n",
        "        return float(years_str)\n",
        "    except:\n",
        "        return np.nan\n",
        "\n",
        "def parse_age(age_str):\n",
        "    age_map = {\n",
        "        \"Under 18 years old\": 16.0,\n",
        "        \"18-24 years old\": 21.0,\n",
        "        \"25-34 years old\": 29.5,\n",
        "        \"35-44 years old\": 39.5,\n",
        "        \"45-54 years old\": 49.5,\n",
        "        \"55-64 years old\": 59.5,\n",
        "        \"65 years or older\": 70.0,\n",
        "    }\n",
        "    return age_map.get(age_str, np.nan)\n"
      ]
    },
    {
      "cell_type": "markdown",
      "id": "ea615a72",
      "metadata": {
        "id": "ea615a72"
      },
      "source": [
        "## 📥 Load and Prepare Data"
      ]
    },
    {
      "cell_type": "code",
      "execution_count": 4,
      "id": "49a959ae",
      "metadata": {
        "id": "49a959ae"
      },
      "outputs": [],
      "source": [
        "def load_and_prepare_data(public_csv_path='survey_results_public.csv', random_seed=RANDOM_SEED):\n",
        "    logging.info(f\"Loading {public_csv_path}...\")\n",
        "    df = pd.read_csv(public_csv_path)\n",
        "\n",
        "    df = df[df['ConvertedCompYearly'].notna()].copy()\n",
        "    df['LogSalary'] = np.log1p(df['ConvertedCompYearly'])\n",
        "    df['YearsCodeProNum'] = df['YearsCodePro'].apply(parse_years_experience)\n",
        "    df['AgeNum'] = df['Age'].apply(parse_age)\n",
        "\n",
        "    num_cols = ['YearsCodeProNum', 'AgeNum']\n",
        "    cat_cols = ['EdLevel', 'Country']\n",
        "    X = df[num_cols + cat_cols]\n",
        "    y = df['LogSalary']\n",
        "\n",
        "    X_train, X_test, y_train, y_test = train_test_split(X, y, test_size=0.2, random_state=random_seed)\n",
        "\n",
        "    return (X_train, X_test, y_train, y_test), num_cols, cat_cols\n"
      ]
    },
    {
      "cell_type": "markdown",
      "id": "313a1a4c",
      "metadata": {
        "id": "313a1a4c"
      },
      "source": [
        "## 🧱 Build Preprocessing + Modeling Pipeline"
      ]
    },
    {
      "cell_type": "code",
      "execution_count": 5,
      "id": "d7b3b3c7",
      "metadata": {
        "id": "d7b3b3c7"
      },
      "outputs": [],
      "source": [
        "def build_pipeline(num_cols, cat_cols):\n",
        "    num_pipe = Pipeline([\n",
        "        ('impute', KNNImputer(n_neighbors=5)),\n",
        "        ('scale', StandardScaler())\n",
        "    ])\n",
        "\n",
        "    cat_pipe = Pipeline([\n",
        "        ('impute', SimpleImputer(strategy='constant', fill_value='Unknown')),\n",
        "        ('ohe', OneHotEncoder(handle_unknown='ignore', sparse_output=False))\n",
        "    ])\n",
        "\n",
        "    preprocessor = ColumnTransformer([\n",
        "        ('num', num_pipe, num_cols),\n",
        "        ('cat', cat_pipe, cat_cols)\n",
        "    ])\n",
        "\n",
        "    rf = RandomForestRegressor(n_estimators=N_ESTIMATORS_RF, random_state=RANDOM_SEED, n_jobs=-1)\n",
        "\n",
        "    return Pipeline([('preproc', preprocessor), ('rf', rf)])\n"
      ]
    },
    {
      "cell_type": "markdown",
      "id": "6532f989",
      "metadata": {
        "id": "6532f989"
      },
      "source": [
        "## 📊 Evaluate Model Performance"
      ]
    },
    {
      "cell_type": "code",
      "execution_count": 6,
      "id": "315d6e7e",
      "metadata": {
        "id": "315d6e7e"
      },
      "outputs": [],
      "source": [
        "def evaluate_model(model, X_train, y_train, X_test, y_test):\n",
        "    scores = cross_val_score(model, X_train, y_train, cv=5, scoring='r2', n_jobs=-1)\n",
        "    print(\"\\n=== Cross-Validated R² Scores ===\")\n",
        "    for i, score in enumerate(scores, 1):\n",
        "        print(f\"Fold {i}: R² = {score:.4f}\")\n",
        "    print(f\"Mean R² : {np.mean(scores):.4f}\")\n",
        "    print(f\"Std Dev : {np.std(scores):.4f}\")\n",
        "\n",
        "    model.fit(X_train, y_train)\n",
        "    y_pred = model.predict(X_test)\n",
        "\n",
        "    r2 = r2_score(y_test, y_pred)\n",
        "    mse = mean_squared_error(y_test, y_pred)\n",
        "    mae = mean_absolute_error(y_test, y_pred)\n",
        "    rmse = np.sqrt(mse)\n",
        "\n",
        "    print(\"\\n=== Test Set Evaluation ===\")\n",
        "    print(f\"R²   : {r2:.4f}\")\n",
        "    print(f\"MSE  : {mse:.4f}\")\n",
        "    print(f\"MAE  : {mae:.4f}\")\n",
        "    print(f\"RMSE : {rmse:.4f}\")\n"
      ]
    },
    {
      "cell_type": "markdown",
      "id": "9d7fcc3c",
      "metadata": {
        "id": "9d7fcc3c"
      },
      "source": [
        "## 📈 SHAP Interpretability Analysis"
      ]
    },
    {
      "cell_type": "code",
      "execution_count": 7,
      "id": "fd098af6",
      "metadata": {
        "id": "fd098af6"
      },
      "outputs": [],
      "source": [
        "def shap_summary(pipeline, X_train, X_test, num_samples=SHAP_TEST_SAMPLES):\n",
        "    logging.info(\"Computing SHAP values...\")\n",
        "    preproc = pipeline.named_steps['preproc']\n",
        "    model = pipeline.named_steps['rf']\n",
        "\n",
        "    X_train_trans = preproc.transform(X_train)\n",
        "    X_test_subset = X_test.iloc[:num_samples]\n",
        "    X_test_trans = preproc.transform(X_test_subset)\n",
        "    background = shap.sample(X_train_trans, SHAP_BACKGROUND_SAMPLES, random_state=RANDOM_SEED)\n",
        "\n",
        "    explainer = shap.TreeExplainer(model, data=background)\n",
        "    shap_vals = explainer(X_test_trans, check_additivity=False).values\n",
        "\n",
        "    feature_names = preproc.get_feature_names_out()\n",
        "    abs_shap = np.abs(shap_vals)\n",
        "    mean_abs = np.mean(abs_shap, axis=0)\n",
        "\n",
        "    df_shap = pd.DataFrame({\n",
        "        'feature': feature_names,\n",
        "        'mean_abs_shap': mean_abs\n",
        "    }).sort_values('mean_abs_shap', ascending=False)\n",
        "\n",
        "    print(\"\\n--- SHAP Feature Importance (Top 20) ---\")\n",
        "    print(df_shap.head(20).to_string(index=False))\n"
      ]
    },
    {
      "cell_type": "markdown",
      "id": "1d2b44f0",
      "metadata": {
        "id": "1d2b44f0"
      },
      "source": [
        "## 🚀 Main Execution"
      ]
    },
    {
      "cell_type": "code",
      "execution_count": 8,
      "id": "2d553d3d",
      "metadata": {
        "colab": {
          "base_uri": "https://localhost:8080/"
        },
        "id": "2d553d3d",
        "outputId": "e0a241f3-d670-48a9-fc91-f12c58a04ef8"
      },
      "outputs": [
        {
          "output_type": "stream",
          "name": "stdout",
          "text": [
            "\n",
            "=== Cross-Validated R² Scores ===\n",
            "Fold 1: R² = 0.3612\n",
            "Fold 2: R² = 0.3465\n",
            "Fold 3: R² = 0.3241\n",
            "Fold 4: R² = 0.3835\n",
            "Fold 5: R² = 0.3471\n",
            "Mean R² : 0.3525\n",
            "Std Dev : 0.0195\n",
            "\n",
            "=== Test Set Evaluation ===\n",
            "R²   : 0.3352\n",
            "MSE  : 1.2328\n",
            "MAE  : 0.6504\n",
            "RMSE : 1.1103\n",
            "\n",
            "--- SHAP Feature Importance (Top 20) ---\n",
            "                                                                                        feature  mean_abs_shap\n",
            "                                                          cat__Country_United States of America       0.405894\n",
            "                                                                           num__YearsCodeProNum       0.356436\n",
            "                                                                             cat__Country_India       0.111092\n",
            "                                                                                    num__AgeNum       0.085947\n",
            "                                                                           cat__Country_Ukraine       0.081912\n",
            "                                                                          cat__Country_Paraguay       0.075223\n",
            "                                   cat__EdLevel_Master’s degree (M.A., M.S., M.Eng., MBA, etc.)       0.059553\n",
            "                                                                           cat__Country_Germany       0.052421\n",
            "                              cat__Country_United Kingdom of Great Britain and Northern Ireland       0.043792\n",
            "                                                                            cat__Country_Brazil       0.036524\n",
            "                                                                         cat__Country_Australia       0.036502\n",
            "                                                                          cat__Country_Pakistan       0.028691\n",
            "                                      cat__EdLevel_Bachelor’s degree (B.A., B.S., B.Eng., etc.)       0.026596\n",
            "                                                                            cat__Country_Canada       0.024451\n",
            "                                                                           cat__Country_Tunisia       0.024267\n",
            "                                                                        cat__Country_Bangladesh       0.017030\n",
            "                            cat__EdLevel_Some college/university study without earning a degree       0.013702\n",
            "cat__EdLevel_Secondary school (e.g. American high school, German Realschule or Gymnasium, etc.)       0.013697\n",
            "                                                                          cat__Country_Colombia       0.013511\n",
            "                                                                cat__Country_Russian Federation       0.011633\n"
          ]
        }
      ],
      "source": [
        "(X_train, X_test, y_train, y_test), num_cols, cat_cols = load_and_prepare_data()\n",
        "pipeline = build_pipeline(num_cols, cat_cols)\n",
        "pipeline.fit(X_train, y_train)\n",
        "\n",
        "evaluate_model(pipeline, X_train, y_train, X_test, y_test)\n",
        "shap_summary(pipeline, X_train, X_test)\n"
      ]
    },
    {
      "cell_type": "code",
      "source": [],
      "metadata": {
        "id": "ypUoJBXm90TJ"
      },
      "id": "ypUoJBXm90TJ",
      "execution_count": null,
      "outputs": []
    }
  ],
  "metadata": {
    "colab": {
      "provenance": []
    },
    "language_info": {
      "name": "python"
    },
    "kernelspec": {
      "name": "python3",
      "display_name": "Python 3"
    }
  },
  "nbformat": 4,
  "nbformat_minor": 5
}
