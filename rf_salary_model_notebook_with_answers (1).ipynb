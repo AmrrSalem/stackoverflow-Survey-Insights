{
 "cells": [
  {
   "cell_type": "markdown",
   "id": "d2a9d11e",
   "metadata": {
    "id": "d2a9d11e"
   },
   "source": [
    "# 📘 Random Forest Model with SHAP Interpretation for Stack Overflow Developer Survey"
   ]
  },
  {
   "cell_type": "markdown",
   "id": "32992e45",
   "metadata": {
    "id": "32992e45"
   },
   "source": [
    "# 💼 Business Questions\n",
    "\n",
    "This analysis addresses the following key questions derived from the Stack Overflow Developer Survey 2024:\n",
    "\n",
    "1. **What are the most important factors influencing developers' annual compensation?**\n",
    "2. **How predictive are experience and age when estimating salary?**\n",
    "3. **Does educational level significantly impact developer earnings?**\n",
    "4. **Are there notable salary differences across countries?**\n",
    "5. **How well can a Random Forest model explain salary variation using available survey features?**\n"
   ]
  },
  {
   "cell_type": "code",
   "execution_count": 1,
   "id": "2c9f6383",
   "metadata": {
    "id": "2c9f6383"
   },
   "outputs": [
    {
     "ename": "ModuleNotFoundError",
     "evalue": "No module named 'slicer'",
     "output_type": "error",
     "traceback": [
      "\u001b[31m---------------------------------------------------------------------------\u001b[39m",
      "\u001b[31mModuleNotFoundError\u001b[39m                       Traceback (most recent call last)",
      "\u001b[36mCell\u001b[39m\u001b[36m \u001b[39m\u001b[32mIn[1]\u001b[39m\u001b[32m, line 3\u001b[39m\n\u001b[32m      1\u001b[39m \u001b[38;5;28;01mimport\u001b[39;00m\u001b[38;5;250m \u001b[39m\u001b[34;01mnumpy\u001b[39;00m\u001b[38;5;250m \u001b[39m\u001b[38;5;28;01mas\u001b[39;00m\u001b[38;5;250m \u001b[39m\u001b[34;01mnp\u001b[39;00m\n\u001b[32m      2\u001b[39m \u001b[38;5;28;01mimport\u001b[39;00m\u001b[38;5;250m \u001b[39m\u001b[34;01mpandas\u001b[39;00m\u001b[38;5;250m \u001b[39m\u001b[38;5;28;01mas\u001b[39;00m\u001b[38;5;250m \u001b[39m\u001b[34;01mpd\u001b[39;00m\n\u001b[32m----> \u001b[39m\u001b[32m3\u001b[39m \u001b[38;5;28;01mimport\u001b[39;00m\u001b[38;5;250m \u001b[39m\u001b[34;01mshap\u001b[39;00m\n\u001b[32m      4\u001b[39m \u001b[38;5;28;01mimport\u001b[39;00m\u001b[38;5;250m \u001b[39m\u001b[34;01mlogging\u001b[39;00m\n\u001b[32m      5\u001b[39m \u001b[38;5;28;01mfrom\u001b[39;00m\u001b[38;5;250m \u001b[39m\u001b[34;01msklearn\u001b[39;00m\u001b[34;01m.\u001b[39;00m\u001b[34;01mimpute\u001b[39;00m\u001b[38;5;250m \u001b[39m\u001b[38;5;28;01mimport\u001b[39;00m KNNImputer, SimpleImputer\n",
      "\u001b[36mFile \u001b[39m\u001b[32mC:\\Program Files\\Python312\\Lib\\site-packages\\shap\\__init__.py:1\u001b[39m\n\u001b[32m----> \u001b[39m\u001b[32m1\u001b[39m \u001b[38;5;28;01mfrom\u001b[39;00m\u001b[38;5;250m \u001b[39m\u001b[34;01m.\u001b[39;00m\u001b[34;01m_explanation\u001b[39;00m\u001b[38;5;250m \u001b[39m\u001b[38;5;28;01mimport\u001b[39;00m Cohorts, Explanation\n\u001b[32m      3\u001b[39m \u001b[38;5;66;03m# explainers\u001b[39;00m\n\u001b[32m      4\u001b[39m \u001b[38;5;28;01mfrom\u001b[39;00m\u001b[38;5;250m \u001b[39m\u001b[34;01m.\u001b[39;00m\u001b[34;01mexplainers\u001b[39;00m\u001b[38;5;250m \u001b[39m\u001b[38;5;28;01mimport\u001b[39;00m other\n",
      "\u001b[36mFile \u001b[39m\u001b[32mC:\\Program Files\\Python312\\Lib\\site-packages\\shap\\_explanation.py:14\u001b[39m\n\u001b[32m     12\u001b[39m \u001b[38;5;28;01mimport\u001b[39;00m\u001b[38;5;250m \u001b[39m\u001b[34;01mscipy\u001b[39;00m\u001b[34;01m.\u001b[39;00m\u001b[34;01mspatial\u001b[39;00m\n\u001b[32m     13\u001b[39m \u001b[38;5;28;01mimport\u001b[39;00m\u001b[38;5;250m \u001b[39m\u001b[34;01msklearn\u001b[39;00m\n\u001b[32m---> \u001b[39m\u001b[32m14\u001b[39m \u001b[38;5;28;01mfrom\u001b[39;00m\u001b[38;5;250m \u001b[39m\u001b[34;01mslicer\u001b[39;00m\u001b[38;5;250m \u001b[39m\u001b[38;5;28;01mimport\u001b[39;00m Alias, Obj, Slicer\n\u001b[32m     16\u001b[39m \u001b[38;5;28;01mfrom\u001b[39;00m\u001b[38;5;250m \u001b[39m\u001b[34;01m.\u001b[39;00m\u001b[34;01mutils\u001b[39;00m\u001b[34;01m.\u001b[39;00m\u001b[34;01m_clustering\u001b[39;00m\u001b[38;5;250m \u001b[39m\u001b[38;5;28;01mimport\u001b[39;00m hclust_ordering\n\u001b[32m     17\u001b[39m \u001b[38;5;28;01mfrom\u001b[39;00m\u001b[38;5;250m \u001b[39m\u001b[34;01m.\u001b[39;00m\u001b[34;01mutils\u001b[39;00m\u001b[34;01m.\u001b[39;00m\u001b[34;01m_exceptions\u001b[39;00m\u001b[38;5;250m \u001b[39m\u001b[38;5;28;01mimport\u001b[39;00m DimensionError\n",
      "\u001b[31mModuleNotFoundError\u001b[39m: No module named 'slicer'"
     ]
    }
   ],
   "source": [
    "import numpy as np\n",
    "import pandas as pd\n",
    "import shap\n",
    "import logging\n",
    "from sklearn.impute import KNNImputer, SimpleImputer\n",
    "from sklearn.preprocessing import StandardScaler, OneHotEncoder\n",
    "from sklearn.compose import ColumnTransformer\n",
    "from sklearn.pipeline import Pipeline\n",
    "from sklearn.ensemble import RandomForestRegressor\n",
    "from sklearn.model_selection import train_test_split, cross_val_score\n",
    "from sklearn.metrics import r2_score, mean_squared_error, mean_absolute_error\n"
   ]
  },
  {
   "cell_type": "code",
   "execution_count": 2,
   "id": "a5b5e6be",
   "metadata": {
    "id": "a5b5e6be"
   },
   "outputs": [],
   "source": [
    "RANDOM_SEED = 42\n",
    "N_ESTIMATORS_RF = 200\n",
    "SHAP_BACKGROUND_SAMPLES = 50\n",
    "SHAP_TEST_SAMPLES = 100\n",
    "\n",
    "logging.basicConfig(level=logging.INFO, format='%(asctime)s - %(levelname)s - %(message)s')\n"
   ]
  },
  {
   "cell_type": "markdown",
   "id": "dd4d6920",
   "metadata": {
    "id": "dd4d6920"
   },
   "source": [
    "## 🧮 Helper Functions"
   ]
  },
  {
   "cell_type": "code",
   "execution_count": 3,
   "id": "2c7719cf",
   "metadata": {
    "id": "2c7719cf"
   },
   "outputs": [],
   "source": [
    "def parse_years_experience(years_str):\n",
    "    if pd.isna(years_str): return np.nan\n",
    "    if years_str == 'Less than 1 year': return 0.5\n",
    "    if years_str == 'More than 50 years': return 51.0\n",
    "    try:\n",
    "        return float(years_str)\n",
    "    except:\n",
    "        return np.nan\n",
    "\n",
    "def parse_age(age_str):\n",
    "    age_map = {\n",
    "        \"Under 18 years old\": 16.0,\n",
    "        \"18-24 years old\": 21.0,\n",
    "        \"25-34 years old\": 29.5,\n",
    "        \"35-44 years old\": 39.5,\n",
    "        \"45-54 years old\": 49.5,\n",
    "        \"55-64 years old\": 59.5,\n",
    "        \"65 years or older\": 70.0,\n",
    "    }\n",
    "    return age_map.get(age_str, np.nan)\n"
   ]
  },
  {
   "cell_type": "markdown",
   "id": "ea615a72",
   "metadata": {
    "id": "ea615a72"
   },
   "source": [
    "## 📥 Load and Prepare Data"
   ]
  },
  {
   "cell_type": "code",
   "execution_count": 4,
   "id": "49a959ae",
   "metadata": {
    "id": "49a959ae"
   },
   "outputs": [],
   "source": [
    "def load_and_prepare_data(public_csv_path='survey_results_public.csv', random_seed=RANDOM_SEED):\n",
    "    logging.info(f\"Loading {public_csv_path}...\")\n",
    "    df = pd.read_csv(public_csv_path)\n",
    "\n",
    "    df = df[df['ConvertedCompYearly'].notna()].copy()\n",
    "    df['LogSalary'] = np.log1p(df['ConvertedCompYearly'])\n",
    "    df['YearsCodeProNum'] = df['YearsCodePro'].apply(parse_years_experience)\n",
    "    df['AgeNum'] = df['Age'].apply(parse_age)\n",
    "\n",
    "    num_cols = ['YearsCodeProNum', 'AgeNum']\n",
    "    cat_cols = ['EdLevel', 'Country']\n",
    "    X = df[num_cols + cat_cols]\n",
    "    y = df['LogSalary']\n",
    "\n",
    "    X_train, X_test, y_train, y_test = train_test_split(X, y, test_size=0.2, random_state=random_seed)\n",
    "\n",
    "    return (X_train, X_test, y_train, y_test), num_cols, cat_cols\n"
   ]
  },
  {
   "cell_type": "markdown",
   "id": "313a1a4c",
   "metadata": {
    "id": "313a1a4c"
   },
   "source": [
    "## 🧱 Build Preprocessing + Modeling Pipeline"
   ]
  },
  {
   "cell_type": "code",
   "execution_count": 5,
   "id": "d7b3b3c7",
   "metadata": {
    "id": "d7b3b3c7"
   },
   "outputs": [],
   "source": [
    "def build_pipeline(num_cols, cat_cols):\n",
    "    num_pipe = Pipeline([\n",
    "        ('impute', KNNImputer(n_neighbors=5)),\n",
    "        ('scale', StandardScaler())\n",
    "    ])\n",
    "\n",
    "    cat_pipe = Pipeline([\n",
    "        ('impute', SimpleImputer(strategy='constant', fill_value='Unknown')),\n",
    "        ('ohe', OneHotEncoder(handle_unknown='ignore', sparse_output=False))\n",
    "    ])\n",
    "\n",
    "    preprocessor = ColumnTransformer([\n",
    "        ('num', num_pipe, num_cols),\n",
    "        ('cat', cat_pipe, cat_cols)\n",
    "    ])\n",
    "\n",
    "    rf = RandomForestRegressor(n_estimators=N_ESTIMATORS_RF, random_state=RANDOM_SEED, n_jobs=-1)\n",
    "\n",
    "    return Pipeline([('preproc', preprocessor), ('rf', rf)])\n"
   ]
  },
  {
   "cell_type": "markdown",
   "id": "6532f989",
   "metadata": {
    "id": "6532f989"
   },
   "source": [
    "## 📊 Evaluate Model Performance"
   ]
  },
  {
   "cell_type": "code",
   "execution_count": 6,
   "id": "315d6e7e",
   "metadata": {
    "id": "315d6e7e"
   },
   "outputs": [],
   "source": [
    "def evaluate_model(model, X_train, y_train, X_test, y_test):\n",
    "    scores = cross_val_score(model, X_train, y_train, cv=5, scoring='r2', n_jobs=-1)\n",
    "    print(\"\\n=== Cross-Validated R² Scores ===\")\n",
    "    for i, score in enumerate(scores, 1):\n",
    "        print(f\"Fold {i}: R² = {score:.4f}\")\n",
    "    print(f\"Mean R² : {np.mean(scores):.4f}\")\n",
    "    print(f\"Std Dev : {np.std(scores):.4f}\")\n",
    "\n",
    "    model.fit(X_train, y_train)\n",
    "    y_pred = model.predict(X_test)\n",
    "\n",
    "    r2 = r2_score(y_test, y_pred)\n",
    "    mse = mean_squared_error(y_test, y_pred)\n",
    "    mae = mean_absolute_error(y_test, y_pred)\n",
    "    rmse = np.sqrt(mse)\n",
    "\n",
    "    print(\"\\n=== Test Set Evaluation ===\")\n",
    "    print(f\"R²   : {r2:.4f}\")\n",
    "    print(f\"MSE  : {mse:.4f}\")\n",
    "    print(f\"MAE  : {mae:.4f}\")\n",
    "    print(f\"RMSE : {rmse:.4f}\")\n"
   ]
  },
  {
   "cell_type": "markdown",
   "id": "9d7fcc3c",
   "metadata": {
    "id": "9d7fcc3c"
   },
   "source": [
    "## 📈 SHAP Interpretability Analysis"
   ]
  },
  {
   "cell_type": "code",
   "execution_count": 7,
   "id": "fd098af6",
   "metadata": {
    "id": "fd098af6"
   },
   "outputs": [],
   "source": [
    "def shap_summary(pipeline, X_train, X_test, num_samples=SHAP_TEST_SAMPLES):\n",
    "    logging.info(\"Computing SHAP values...\")\n",
    "    preproc = pipeline.named_steps['preproc']\n",
    "    model = pipeline.named_steps['rf']\n",
    "\n",
    "    X_train_trans = preproc.transform(X_train)\n",
    "    X_test_subset = X_test.iloc[:num_samples]\n",
    "    X_test_trans = preproc.transform(X_test_subset)\n",
    "    background = shap.sample(X_train_trans, SHAP_BACKGROUND_SAMPLES, random_state=RANDOM_SEED)\n",
    "\n",
    "    explainer = shap.TreeExplainer(model, data=background)\n",
    "    shap_vals = explainer(X_test_trans, check_additivity=False).values\n",
    "\n",
    "    feature_names = preproc.get_feature_names_out()\n",
    "    abs_shap = np.abs(shap_vals)\n",
    "    mean_abs = np.mean(abs_shap, axis=0)\n",
    "\n",
    "    df_shap = pd.DataFrame({\n",
    "        'feature': feature_names,\n",
    "        'mean_abs_shap': mean_abs\n",
    "    }).sort_values('mean_abs_shap', ascending=False)\n",
    "\n",
    "    print(\"\\n--- SHAP Feature Importance (Top 20) ---\")\n",
    "    print(df_shap.head(20).to_string(index=False))\n"
   ]
  },
  {
   "cell_type": "markdown",
   "id": "1d2b44f0",
   "metadata": {
    "id": "1d2b44f0"
   },
   "source": [
    "## 🚀 Main Execution"
   ]
  },
  {
   "cell_type": "code",
   "execution_count": 8,
   "id": "2d553d3d",
   "metadata": {
    "colab": {
     "base_uri": "https://localhost:8080/"
    },
    "id": "2d553d3d",
    "outputId": "31cde1e5-9448-4e38-cf47-a9925d706424"
   },
   "outputs": [
    {
     "name": "stdout",
     "output_type": "stream",
     "text": [
      "\n",
      "=== Cross-Validated R² Scores ===\n",
      "Fold 1: R² = 0.1671\n",
      "Fold 2: R² = 0.5074\n",
      "Fold 3: R² = 0.1482\n",
      "Fold 4: R² = 0.4302\n",
      "Fold 5: R² = 0.3145\n",
      "Mean R² : 0.3135\n",
      "Std Dev : 0.1414\n",
      "\n",
      "=== Test Set Evaluation ===\n",
      "R²   : 0.3627\n",
      "MSE  : 0.7046\n",
      "MAE  : 0.5580\n",
      "RMSE : 0.8394\n",
      "\n",
      "--- SHAP Feature Importance (Top 20) ---\n",
      "                                                                                        feature  mean_abs_shap\n",
      "                                                          cat__Country_United States of America       0.340745\n",
      "                                                                           num__YearsCodeProNum       0.213256\n",
      "                                                                                    num__AgeNum       0.081290\n",
      "                                                                           cat__Country_Ukraine       0.075779\n",
      "                                                                            cat__Country_Brazil       0.065536\n",
      "                                               cat__EdLevel_Associate degree (A.A., A.S., etc.)       0.061950\n",
      "                                                                             cat__Country_India       0.057891\n",
      "                                                                         cat__Country_Nicaragua       0.035598\n",
      "                                   cat__EdLevel_Master’s degree (M.A., M.S., M.Eng., MBA, etc.)       0.034227\n",
      "                                                                        cat__Country_Bangladesh       0.029915\n",
      "                                                                             cat__Country_Italy       0.021069\n",
      "                                                                           cat__Country_Germany       0.020601\n",
      "                                      cat__EdLevel_Bachelor’s degree (B.A., B.S., B.Eng., etc.)       0.020221\n",
      "                              cat__Country_United Kingdom of Great Britain and Northern Ireland       0.017778\n",
      "                                                                            cat__Country_Turkey       0.016743\n",
      "                            cat__EdLevel_Some college/university study without earning a degree       0.011502\n",
      "                                                                            cat__Country_Canada       0.007344\n",
      "cat__EdLevel_Secondary school (e.g. American high school, German Realschule or Gymnasium, etc.)       0.007056\n",
      "                                                                           cat__Country_Denmark       0.006709\n",
      "                                    cat__EdLevel_Professional degree (JD, MD, Ph.D, Ed.D, etc.)       0.006212\n"
     ]
    }
   ],
   "source": [
    "(X_train, X_test, y_train, y_test), num_cols, cat_cols = load_and_prepare_data()\n",
    "pipeline = build_pipeline(num_cols, cat_cols)\n",
    "pipeline.fit(X_train, y_train)\n",
    "\n",
    "evaluate_model(pipeline, X_train, y_train, X_test, y_test)\n",
    "shap_summary(pipeline, X_train, X_test)\n"
   ]
  },
  {
   "cell_type": "markdown",
   "id": "2d211d9a",
   "metadata": {
    "id": "2d211d9a"
   },
   "source": [
    "### ✅ Answer to Question 1:\n",
    "The SHAP analysis reveals that the most influential features affecting developer salaries are:\n",
    "- **Country**\n",
    "- **Years of Professional Coding Experience**\n",
    "- **Educational Level**\n",
    "\n",
    "These features consistently show the highest average SHAP values, indicating their strong impact on salary predictions.\n"
   ]
  },
  {
   "cell_type": "markdown",
   "id": "nzE53xqWJjry",
   "metadata": {
    "id": "nzE53xqWJjry"
   },
   "source": [
    "### ✅ Answer to Question 2 and Question 5:\n",
    "\n",
    "Experience (YearsCodeProNum) and Age (AgeNum) are included in the model as numerical predictors.\n",
    "The cross-validated R² score and test set evaluation (R², MSE, RMSE) show that the Random Forest model captures a meaningful amount of salary variation.\n",
    "This supports that both features are predictive, though SHAP values can confirm their relative importance."
   ]
  },
  {
   "cell_type": "markdown",
   "id": "SozxK_deJxTT",
   "metadata": {
    "id": "SozxK_deJxTT"
   },
   "source": [
    "### ✅ Answer to Question 3 and Question 4:\n",
    "\n",
    "\n",
    "Education Level (EdLevel) and Country are both processed as categorical features and passed to the model.\n",
    "Their presence in the SHAP feature rankings confirms that both contribute significantly to explaining differences in salary.\n",
    "However, for deeper insights (e.g., top-paying countries), additional grouped visualizations would be beneficial."
   ]
  }
 ],
 "metadata": {
  "colab": {
   "provenance": []
  },
  "kernelspec": {
   "display_name": "Python 3 (ipykernel)",
   "language": "python",
   "name": "python3"
  },
  "language_info": {
   "codemirror_mode": {
    "name": "ipython",
    "version": 3
   },
   "file_extension": ".py",
   "mimetype": "text/x-python",
   "name": "python",
   "nbconvert_exporter": "python",
   "pygments_lexer": "ipython3",
   "version": "3.12.5"
  }
 },
 "nbformat": 4,
 "nbformat_minor": 5
}
